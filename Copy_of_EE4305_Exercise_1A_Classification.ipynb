{
  "nbformat": 4,
  "nbformat_minor": 0,
  "metadata": {
    "colab": {
      "name": "Copy of EE4305: Exercise 1A - Classification",
      "provenance": [],
      "collapsed_sections": [],
      "include_colab_link": true
    },
    "kernelspec": {
      "name": "python3",
      "display_name": "Python 3"
    }
  },
  "cells": [
    {
      "cell_type": "markdown",
      "metadata": {
        "id": "view-in-github",
        "colab_type": "text"
      },
      "source": [
        "<a href=\"https://colab.research.google.com/github/zhaozhijie1997/web/blob/master/Copy_of_EE4305_Exercise_1A_Classification.ipynb\" target=\"_parent\"><img src=\"https://colab.research.google.com/assets/colab-badge.svg\" alt=\"Open In Colab\"/></a>"
      ]
    },
    {
      "cell_type": "markdown",
      "metadata": {
        "id": "OtkP0kNnV-A1",
        "colab_type": "text"
      },
      "source": [
        "### Project Allocation\n",
        "\n",
        "Enter your matric number and run the following cell (shift + enter) to check project allocated"
      ]
    },
    {
      "cell_type": "code",
      "metadata": {
        "id": "Ga9NIEqWQE6F",
        "colab_type": "code",
        "cellView": "form",
        "outputId": "def95d3e-64dc-4572-b2aa-2d72702ddd0b",
        "colab": {
          "base_uri": "https://localhost:8080/",
          "height": 71
        }
      },
      "source": [
        "matric_number = \"A0150102H\" #@param {type:\"string\"}\n",
        "\n",
        "try:\n",
        "    idx = int(list(filter(str.isdigit, matric_number))[-1])%2\n",
        "\n",
        "    if idx == 0:\n",
        "        print('Matric Number:', matric_number)\n",
        "        print('Project      : 1A-Classification')\n",
        "        print('https://colab.research.google.com/drive/1v-LiHThlLFF7bm8n64nh8lieAM2jA7lz?usp=sharing')\n",
        "    elif idx == 1: \n",
        "        print('Matric Number: ', matric_number)\n",
        "        print('Project      : 1B-Regression')\n",
        "        print('https://colab.research.google.com/drive/1Psi1UXp53t3_fMj8t0uIu4rubbV2wRCl?usp=sharing')\n",
        "\n",
        "except IndexError:\n",
        "    print(\"Please enter valid matric number and try again\")"
      ],
      "execution_count": 52,
      "outputs": [
        {
          "output_type": "stream",
          "text": [
            "Matric Number: A0150102H\n",
            "Project      : 1A-Classification\n",
            "https://colab.research.google.com/drive/1v-LiHThlLFF7bm8n64nh8lieAM2jA7lz?usp=sharing\n"
          ],
          "name": "stdout"
        }
      ]
    },
    {
      "cell_type": "markdown",
      "metadata": {
        "id": "nVFfA7vnrFmX",
        "colab_type": "text"
      },
      "source": [
        "### Introduction\n",
        "\n",
        "**EE4305 (2020): Exercise 1A: Classification using MNIST dataset**\n",
        "\n",
        "---\n",
        "In this exercise you will learn basics of implementing an ANN-based classification model using TensorFlow and Keras libraries in Python. Following are the learning outcomes of this exercise:\n",
        "\n",
        "*   Ability to implement a neural network based classification model in Keras\n",
        "*   Train and predict using the model\n",
        "*   Evaluate model performance\n",
        "*   Understand the effect of various model parameters\n",
        "*   Propose means to improve model performance\n",
        "*   Perform data analytics and visualize outcomes \n",
        "\n",
        "Below the code skeleton is provided to help you with setting up the required options. Look for code cells describing the problems that each student needs to solve.\n",
        "\n",
        "More details about the dataset can be found [here](http://yann.lecun.com/exdb/mnist/)\n"
      ]
    },
    {
      "cell_type": "markdown",
      "metadata": {
        "id": "d72iCH0EVd0I",
        "colab_type": "text"
      },
      "source": [
        "### Instructions for using the Notebook\n",
        "\n",
        "If you have prior experience using Jupyter Notebooks, Colab is very similar. Please refer to the **Help** menu for FAQs. **Tools** menu provides useful information on commands and keyboard shortcuts. You may use the **Table of contents** menu on the left hand side to easily navigate between sections.\n",
        "\n",
        "---\n",
        "**VERY IMPORTANT: DO NOT MODIFY this file. Make a copy from the File menu and modify your version. You may use your matric number to name the file. For example, \"A0140410A: Exercise 1A - Classification\"**\n",
        "\n",
        "---\n",
        "\n",
        "The code skeleton provided is just a template. Feel free to modify/ improve any of the cells and scripts if you would prefer to implement them differently. If you have a local notebook environment with required packages, you may also download the notebook from **File** menu and run the script locally. Feel free to input additional **code** cells or **text** cells to present your solutions.\n",
        "\n",
        "### Submission\n",
        "\n",
        "For submission, download the notebook in '*.ipynb' format and submit in LumiNUS. Make sure all outputs are present under each cells (Especially for solution cells). Ensure you name the file appropriately as mentioned above."
      ]
    },
    {
      "cell_type": "markdown",
      "metadata": {
        "id": "iYIMQF0DuBVN",
        "colab_type": "text"
      },
      "source": [
        "### Import libraries\n",
        "\n",
        "Following libraries are required for the implementation. Additional libraries may be imported as needed for specific tasks.\n",
        "\n",
        "*   numpy, pandas: For data storage and manipulation\n",
        "*   matplotlib, seaborn: Plotting and visualization\n",
        "*   tensorflow: Low-level library for machine learning implementations\n",
        "*   keras: High-level library to import datasets and implement ANN model\n",
        "*   sklearn: Data preprocessing, model evaluation metrics\n",
        "\n"
      ]
    },
    {
      "cell_type": "code",
      "metadata": {
        "id": "oBo5rUo5vfn1",
        "colab_type": "code",
        "colab": {}
      },
      "source": [
        "import numpy as np\n",
        "import pandas as pd"
      ],
      "execution_count": 0,
      "outputs": []
    },
    {
      "cell_type": "code",
      "metadata": {
        "id": "lQtTgdgCvfVT",
        "colab_type": "code",
        "colab": {}
      },
      "source": [
        "import matplotlib.pyplot as plt\n",
        "import seaborn as sns"
      ],
      "execution_count": 0,
      "outputs": []
    },
    {
      "cell_type": "code",
      "metadata": {
        "id": "dmtRv32JvfFt",
        "colab_type": "code",
        "colab": {}
      },
      "source": [
        "from tensorflow.keras.datasets import mnist\n",
        "\n",
        "import tensorflow as tf\n",
        "import tensorflow.keras.backend as K\n",
        "\n",
        "from tensorflow.keras.models import Model\n",
        "from tensorflow.keras.layers import Input, Dense, Dropout\n",
        "from tensorflow.keras.regularizers import l2, L1L2\n",
        "\n",
        "from tensorflow.keras import callbacks\n",
        "\n",
        "from tensorflow.keras.utils import to_categorical"
      ],
      "execution_count": 0,
      "outputs": []
    },
    {
      "cell_type": "code",
      "metadata": {
        "id": "fcMPWuURvesj",
        "colab_type": "code",
        "colab": {}
      },
      "source": [
        "from sklearn.preprocessing import MinMaxScaler\n",
        "from sklearn.metrics import accuracy_score as skacc"
      ],
      "execution_count": 0,
      "outputs": []
    },
    {
      "cell_type": "markdown",
      "metadata": {
        "id": "p-2csuc-wYkq",
        "colab_type": "text"
      },
      "source": [
        "### Load Data\n",
        "\n",
        "Keras provides an easy to use API to load popular machine learning datasets. For this problem we use the MNIST digits dataset.\n",
        "\n"
      ]
    },
    {
      "cell_type": "code",
      "metadata": {
        "id": "4zFtKqAlDvlv",
        "colab_type": "code",
        "outputId": "bbecb05d-9220-4c3b-a0a3-0da2a91a2367",
        "colab": {
          "base_uri": "https://localhost:8080/",
          "height": 348
        }
      },
      "source": [
        "(xtr, ytr), (xte, yte) = mnist.load_data()\n",
        "\n",
        "print('Data Shapes')\n",
        "print('Training data - xtr:{}, ytr:{}'.format(xtr.shape, ytr.shape))\n",
        "print('Testing data - xte:{}, yte:{}\\n'.format(xte.shape, yte.shape))\n",
        "\n",
        "# Visualize random samples\n",
        "\n",
        "f = plt.figure(figsize=(20,5))\n",
        "\n",
        "for i in range(16):\n",
        "    plt.subplot(2,8,i+1)\n",
        "    plt.imshow(xtr[np.random.randint(0,60000)], cmap='gray')\n",
        "    plt.xticks([])\n",
        "    plt.yticks([])"
      ],
      "execution_count": 58,
      "outputs": [
        {
          "output_type": "stream",
          "text": [
            "Data Shapes\n",
            "Training data - xtr:(60000, 28, 28), ytr:(60000,)\n",
            "Testing data - xte:(10000, 28, 28), yte:(10000,)\n",
            "\n"
          ],
          "name": "stdout"
        },
        {
          "output_type": "display_data",
          "data": {
            "image/png": "[encoded data removed]",
            "text/plain": [
              "<Figure size 1440x360 with 16 Axes>"
            ]
          },
          "metadata": {
            "tags": []
          }
        }
      ]
    },
    {
      "cell_type": "markdown",
      "metadata": {
        "id": "lYHDDLPrFwAU",
        "colab_type": "text"
      },
      "source": [
        "### Data Preparation\n",
        "\n",
        "Input features are images of size 28 x 28. For ANN the data should be reshaped into one dimensional vectors. Each pixel in the input image is represented using grayscale values ranging from 0 to 255.\n",
        "\n",
        "Output labels indicate the digit value ranging from 0 to 9. However, for neural networks classification the data needs to be one-hot encoded"
      ]
    },
    {
      "cell_type": "markdown",
      "metadata": {
        "id": "SzY5sAlT0V79",
        "colab_type": "text"
      },
      "source": [
        "---\n",
        "### Problem I\n",
        "\n",
        "1.   What is the correct range of the input values for normalization? Implement normalization code in the cell below. \n",
        "\n",
        "```\n",
        "Hint: refer to sklearn.preprocessing - StandardScaler, MinMaxScaler.\n",
        "```\n",
        "\n",
        "2.   Why ANN requires output to be one-hot encoded? Implement code to convert output y to one-hot encoding.\n",
        "\n",
        "```\n",
        "Hint: refer to tensorflow.keras.utils.to_categorical\n",
        "```\n",
        "---"
      ]
    },
    {
      "cell_type": "code",
      "metadata": {
        "id": "GC3zmBPh11Dj",
        "colab_type": "code",
        "colab": {}
      },
      "source": [
        "# Code for input data normalization and output one-hot encoding\n",
        "# You may directly use available helper functions from sklearn and keras or implement your own function\n",
        "\n",
        "xtr = xtr.reshape(-1, 784)\n",
        "xte = xte.reshape(-1, 784)\n",
        "scaler = MinMaxScaler()\n",
        "xtr_norm = scaler.fit_transform(xtr)\n",
        "xte_norm = scaler.transform(xte)\n",
        "\n",
        "ytr_cat = to_categorical(ytr,num_classes=10)\n",
        "yte_cat = to_categorical(yte,num_classes=10)\n",
        "\n",
        "\n",
        "# xtr_norm = \n",
        "# xte_norm = \n",
        "# ytr_cat = \n",
        "# yte_cat = "
      ],
      "execution_count": 0,
      "outputs": []
    },
    {
      "cell_type": "markdown",
      "metadata": {
        "id": "NuHakLI13Yod",
        "colab_type": "text"
      },
      "source": [
        "### Define Model\n",
        "\n",
        "Below we define a baseline ANN-based model. Dense layers are fully connected layers in Keras used to define a standard MLP. Notice that the output layer contains 10 neurons which is equivalent to the number of classes. Output uses 'softmax' activation as this is a classification problem.\n",
        "\n",
        "\n",
        "Number of layers, neurons and activations for hidden layers can be customized\n",
        "\n",
        "The function returns a Keras model that can be used to train, predict, and evaluate using in-built functions."
      ]
    },
    {
      "cell_type": "code",
      "metadata": {
        "id": "sW6D8p90VxIL",
        "colab_type": "code",
        "colab": {}
      },
      "source": [
        "def get_model(input_shape):\n",
        "  input_data = Input(shape=input_shape)\n",
        "\n",
        "  d1 = Dense(8, activation='tanh')(input_data)\n",
        "  d2 = Dense(16, activation='tanh')(d1)\n",
        "  # dr2 = Dropout(0.5)(d2)\n",
        "  d3 = Dense(10, activation='softmax')(d2)\n",
        "\n",
        "  model = Model(inputs=[input_data], outputs=[d3])\n",
        "\n",
        "  return model"
      ],
      "execution_count": 0,
      "outputs": []
    },
    {
      "cell_type": "markdown",
      "metadata": {
        "id": "jLXUdeMr4acN",
        "colab_type": "text"
      },
      "source": [
        "---\n",
        "### Problem II\n",
        "\n",
        "1.   Compile and train an ANN-model using in-built functions in Keras.\n",
        "\n",
        "```\n",
        "# Use compile to set following parameters:\n",
        "#  - optimizer = adam, sgd, rmsprop\n",
        "#  - loss = categorical_crossentropy\n",
        "\n",
        "compile(\n",
        "    optimizer='rmsprop', loss=None, metrics=None, loss_weights=None,\n",
        "    sample_weight_mode=None, weighted_metrics=None, **kwargs\n",
        "    )\n",
        "\n",
        "# Use fit to train the model. Configure following parameters:\n",
        "#  - x,y: input data and label\n",
        "#  - batch_size: minibatch size, for example, 32, 64, 100, 256\n",
        "#  - epochs: between 10-100\n",
        "#  - validation_split: percentage of training data for validation (eg. 0.2)\n",
        "\n",
        "fit(\n",
        "    x=None, y=None, batch_size=None, epochs=1, verbose=1, callbacks=None,\n",
        "    validation_split=0.0, validation_data=None, shuffle=True, class_weight=None,\n",
        "    sample_weight=None, initial_epoch=0, steps_per_epoch=None,\n",
        "    validation_steps=None, validation_batch_size=None, validation_freq=1,\n",
        "    max_queue_size=10, workers=1, use_multiprocessing=False\n",
        ")\n",
        "```\n",
        "[Compile API](https://www.tensorflow.org/api_docs/python/tf/keras/Model#compile)\n",
        "\n",
        "[Fit API](https://www.tensorflow.org/api_docs/python/tf/keras/Model#fit)\n"
      ]
    },
    {
      "cell_type": "markdown",
      "metadata": {
        "id": "9c_nVxQGA5QD",
        "colab_type": "text"
      },
      "source": [
        "2.   Predict output for test data using trained model and evaluate model performance.\n",
        "\n",
        "\n",
        "\n",
        "```\n",
        "# Use predict function. Most parameters can be left as default. Pass normalized input features for output prediction\n",
        "\n",
        "predict(\n",
        "    x, batch_size=None, verbose=0, steps=None, callbacks=None, max_queue_size=10, \n",
        "    workers=1, use_multiprocessing=False\n",
        ")\n",
        "\n",
        "```\n",
        "\n",
        "[Predict API](https://www.tensorflow.org/api_docs/python/tf/keras/Model#predict)\n",
        "\n",
        "The output from the model is one-hot encoded. How would you convert the prediction back to digit values?\n",
        "\n",
        "For example:\n",
        "\n",
        "```\n",
        "# Categorical to label is obtained by identifying index of max value in each row. HINT: numpy.argmax().\n",
        "\n",
        "yte_pred_cat = [[0,0,0,1,0,0,0,0,0,0],\n",
        "                [0,0,0,0,0,0,1,0,0,0]]\n",
        "yte_pred = [3,6]\n",
        "```\n",
        "---"
      ]
    },
    {
      "cell_type": "code",
      "metadata": {
        "id": "u3NcQv9VWBTp",
        "colab_type": "code",
        "outputId": "959ad70f-c010-47ad-dbd3-0de934a7fda2",
        "colab": {
          "base_uri": "https://localhost:8080/",
          "height": 1000
        }
      },
      "source": [
        "# Code for model training here\n",
        "\n",
        "model = get_model(xtr_norm.shape[1:])\n",
        "model.summary()\n",
        "model.compile(optimizer='adam', loss='categorical_crossentropy')\n",
        "model.fit(\n",
        "    x=xtr_norm, y=ytr_cat, batch_size=32, epochs=20, verbose=1,\n",
        "    validation_split=0.2)\n",
        "\n",
        "\n",
        "\n",
        "\n",
        "\n"
      ],
      "execution_count": 61,
      "outputs": [
        {
          "output_type": "stream",
          "text": [
            "Model: \"model_12\"\n",
            "_________________________________________________________________\n",
            "Layer (type)                 Output Shape              Param #   \n",
            "=================================================================\n",
            "input_13 (InputLayer)        [(None, 784)]             0         \n",
            "_________________________________________________________________\n",
            "dense_50 (Dense)             (None, 8)                 6280      \n",
            "_________________________________________________________________\n",
            "dense_51 (Dense)             (None, 16)                144       \n",
            "_________________________________________________________________\n",
            "dense_52 (Dense)             (None, 10)                170       \n",
            "=================================================================\n",
            "Total params: 6,594\n",
            "Trainable params: 6,594\n",
            "Non-trainable params: 0\n",
            "_________________________________________________________________\n",
            "Epoch 1/20\n",
            "1500/1500 [==============================] - 2s 2ms/step - loss: 0.6254 - val_loss: 0.3266\n",
            "Epoch 2/20\n",
            "1500/1500 [==============================] - 2s 2ms/step - loss: 0.3137 - val_loss: 0.2787\n",
            "Epoch 3/20\n",
            "1500/1500 [==============================] - 2s 2ms/step - loss: 0.2768 - val_loss: 0.2692\n",
            "Epoch 4/20\n",
            "1500/1500 [==============================] - 2s 2ms/step - loss: 0.2583 - val_loss: 0.2601\n",
            "Epoch 5/20\n",
            "1500/1500 [==============================] - 2s 2ms/step - loss: 0.2453 - val_loss: 0.2510\n",
            "Epoch 6/20\n",
            "1500/1500 [==============================] - 2s 2ms/step - loss: 0.2345 - val_loss: 0.2514\n",
            "Epoch 7/20\n",
            "1500/1500 [==============================] - 2s 2ms/step - loss: 0.2266 - val_loss: 0.2523\n",
            "Epoch 8/20\n",
            "1500/1500 [==============================] - 2s 2ms/step - loss: 0.2186 - val_loss: 0.2449\n",
            "Epoch 9/20\n",
            "1500/1500 [==============================] - 2s 2ms/step - loss: 0.2132 - val_loss: 0.2357\n",
            "Epoch 10/20\n",
            "1500/1500 [==============================] - 2s 2ms/step - loss: 0.2060 - val_loss: 0.2375\n",
            "Epoch 11/20\n",
            "1500/1500 [==============================] - 2s 2ms/step - loss: 0.2009 - val_loss: 0.2382\n",
            "Epoch 12/20\n",
            "1500/1500 [==============================] - 2s 2ms/step - loss: 0.1970 - val_loss: 0.2376\n",
            "Epoch 13/20\n",
            "1500/1500 [==============================] - 3s 2ms/step - loss: 0.1964 - val_loss: 0.2284\n",
            "Epoch 14/20\n",
            "1500/1500 [==============================] - 2s 2ms/step - loss: 0.1898 - val_loss: 0.2487\n",
            "Epoch 15/20\n",
            "1500/1500 [==============================] - 2s 2ms/step - loss: 0.1885 - val_loss: 0.2345\n",
            "Epoch 16/20\n",
            "1500/1500 [==============================] - 2s 2ms/step - loss: 0.1860 - val_loss: 0.2314\n",
            "Epoch 17/20\n",
            "1500/1500 [==============================] - 2s 2ms/step - loss: 0.1851 - val_loss: 0.2423\n",
            "Epoch 18/20\n",
            "1500/1500 [==============================] - 2s 2ms/step - loss: 0.1821 - val_loss: 0.2334\n",
            "Epoch 19/20\n",
            "1500/1500 [==============================] - 2s 2ms/step - loss: 0.1799 - val_loss: 0.2342\n",
            "Epoch 20/20\n",
            "1500/1500 [==============================] - 2s 2ms/step - loss: 0.1790 - val_loss: 0.2273\n"
          ],
          "name": "stdout"
        },
        {
          "output_type": "execute_result",
          "data": {
            "text/plain": [
              "<tensorflow.python.keras.callbacks.History at 0x7f1077d402b0>"
            ]
          },
          "metadata": {
            "tags": []
          },
          "execution_count": 61
        }
      ]
    },
    {
      "cell_type": "code",
      "metadata": {
        "id": "7Ra0s_4qWwnh",
        "colab_type": "code",
        "outputId": "19ee9c9d-81a9-47c8-a67d-ffdf8e0f782c",
        "colab": {
          "base_uri": "https://localhost:8080/",
          "height": 35
        }
      },
      "source": [
        "# Code for prediction here\n",
        "\n",
        "yte_pred_cat = model.predict(xte_norm)\n",
        "yte_pred = np.argmax(yte_pred_cat,axis=1)\n",
        "accuracy = skacc(yte, yte_pred)\n",
        "print(\"Baseline model accuracy: \", accuracy)"
      ],
      "execution_count": 62,
      "outputs": [
        {
          "output_type": "stream",
          "text": [
            "Baseline model accuracy:  0.9353\n"
          ],
          "name": "stdout"
        }
      ]
    },
    {
      "cell_type": "markdown",
      "metadata": {
        "id": "aSqJ8SfZE3-x",
        "colab_type": "text"
      },
      "source": [
        "---\n",
        "### Problem III\n",
        "\n",
        "The baseline model is expected to have a test accuracy of around 93%. Can you propose at least 3 methods to improve the model to achieve better performance? Implement the 3 variants and present your results in the cell below.\n",
        "\n",
        "Explain why the model performs better/ worse than baseline.\n",
        "\n",
        "```\n",
        "Hint: Following are some of the model configurations that can be modified:\n",
        "```\n",
        "\n",
        "1.   Batch size, number of epochs, validation split, optimizer, learning rate\n",
        "2.   Model depth, dropout layers, activations, regularizations\n",
        "3.   Advanced: Model callbacks to control early stopping, learning rate decay, model checkpoints\n",
        "\n",
        "---"
      ]
    },
    {
      "cell_type": "markdown",
      "metadata": {
        "id": "-DBI7GOzGDPl",
        "colab_type": "text"
      },
      "source": [
        "### Solution here\n",
        "\n",
        "| Model         | Parameters Tuned                            | Accuracy  |\n",
        "| ------------- |---------------------------------------------| ---------:|\n",
        "| Baseline      | Batch Size and epochs                       | 0.939     |\n",
        "| Aplha         | Change Model Architecture                   | 0.936     |\n",
        "| Beta          | Regularization and Optimizer          | 0.90     |\n",
        "\n",
        "```\n",
        "# Please remove the examples and update with your own model variants.\n",
        "```"
      ]
    },
    {
      "cell_type": "markdown",
      "metadata": {
        "id": "JdPcbNm0hjDO",
        "colab_type": "text"
      },
      "source": [
        "### Method one : Change the batch_size= 64 and epochs = 80\n"
      ]
    },
    {
      "cell_type": "code",
      "metadata": {
        "id": "NKTJmr94HjDA",
        "colab_type": "code",
        "outputId": "227f944c-427f-4f6f-f9f3-12b3d0d71aa2",
        "colab": {
          "base_uri": "https://localhost:8080/",
          "height": 1000
        }
      },
      "source": [
        "### Modified model scripts and parameter details here\n",
        "### You may also use model.summary() to show the model architecture \n",
        "### for each variants\n",
        "# Code for model training here\n",
        "\n",
        "\n",
        "\n",
        "model = get_model(xtr_norm.shape[1:])\n",
        "model.summary()\n",
        "model.compile(optimizer='adam', loss='categorical_crossentropy',)\n",
        "hist=model.fit(\n",
        "    x=xtr_norm, y=ytr_cat, batch_size=64, epochs=80, verbose=1,\n",
        "    validation_split=0.2)\n",
        "\n",
        "\n",
        "\n",
        "\n",
        "yte_pred_cat = model.predict(xte_norm)\n",
        "yte_pred = np.argmax(yte_pred_cat,axis=1)\n",
        "accuracy = skacc(yte, yte_pred)\n",
        "print(\"Baseline model accuracy: \", accuracy)\n",
        "\n",
        "\n"
      ],
      "execution_count": 63,
      "outputs": [
        {
          "output_type": "stream",
          "text": [
            "Model: \"model_13\"\n",
            "_________________________________________________________________\n",
            "Layer (type)                 Output Shape              Param #   \n",
            "=================================================================\n",
            "input_14 (InputLayer)        [(None, 784)]             0         \n",
            "_________________________________________________________________\n",
            "dense_53 (Dense)             (None, 8)                 6280      \n",
            "_________________________________________________________________\n",
            "dense_54 (Dense)             (None, 16)                144       \n",
            "_________________________________________________________________\n",
            "dense_55 (Dense)             (None, 10)                170       \n",
            "=================================================================\n",
            "Total params: 6,594\n",
            "Trainable params: 6,594\n",
            "Non-trainable params: 0\n",
            "_________________________________________________________________\n",
            "Epoch 1/80\n",
            "750/750 [==============================] - 2s 2ms/step - loss: 0.8250 - val_loss: 0.4293\n",
            "Epoch 2/80\n",
            "750/750 [==============================] - 1s 2ms/step - loss: 0.3909 - val_loss: 0.3413\n",
            "Epoch 3/80\n",
            "750/750 [==============================] - 1s 2ms/step - loss: 0.3263 - val_loss: 0.3066\n",
            "Epoch 4/80\n",
            "750/750 [==============================] - 1s 2ms/step - loss: 0.2962 - val_loss: 0.2889\n",
            "Epoch 5/80\n",
            "750/750 [==============================] - 1s 2ms/step - loss: 0.2772 - val_loss: 0.2765\n",
            "Epoch 6/80\n",
            "750/750 [==============================] - 1s 2ms/step - loss: 0.2632 - val_loss: 0.2654\n",
            "Epoch 7/80\n",
            "750/750 [==============================] - 1s 2ms/step - loss: 0.2528 - val_loss: 0.2592\n",
            "Epoch 8/80\n",
            "750/750 [==============================] - 1s 2ms/step - loss: 0.2444 - val_loss: 0.2602\n",
            "Epoch 9/80\n",
            "750/750 [==============================] - 1s 2ms/step - loss: 0.2379 - val_loss: 0.2567\n",
            "Epoch 10/80\n",
            "750/750 [==============================] - 1s 2ms/step - loss: 0.2305 - val_loss: 0.2549\n",
            "Epoch 11/80\n",
            "750/750 [==============================] - 1s 2ms/step - loss: 0.2255 - val_loss: 0.2510\n",
            "Epoch 12/80\n",
            "750/750 [==============================] - 2s 3ms/step - loss: 0.2210 - val_loss: 0.2442\n",
            "Epoch 13/80\n",
            "750/750 [==============================] - 2s 3ms/step - loss: 0.2164 - val_loss: 0.2410\n",
            "Epoch 14/80\n",
            "750/750 [==============================] - 3s 3ms/step - loss: 0.2122 - val_loss: 0.2416\n",
            "Epoch 15/80\n",
            "750/750 [==============================] - 2s 2ms/step - loss: 0.2100 - val_loss: 0.2414\n",
            "Epoch 16/80\n",
            "750/750 [==============================] - 2s 2ms/step - loss: 0.2073 - val_loss: 0.2404\n",
            "Epoch 17/80\n",
            "750/750 [==============================] - 2s 2ms/step - loss: 0.2046 - val_loss: 0.2428\n",
            "Epoch 18/80\n",
            "750/750 [==============================] - 2s 2ms/step - loss: 0.2022 - val_loss: 0.2410\n",
            "Epoch 19/80\n",
            "750/750 [==============================] - 1s 2ms/step - loss: 0.2011 - val_loss: 0.2422\n",
            "Epoch 20/80\n",
            "750/750 [==============================] - 1s 2ms/step - loss: 0.1981 - val_loss: 0.2434\n",
            "Epoch 21/80\n",
            "750/750 [==============================] - 1s 2ms/step - loss: 0.1964 - val_loss: 0.2318\n",
            "Epoch 22/80\n",
            "750/750 [==============================] - 1s 2ms/step - loss: 0.1948 - val_loss: 0.2405\n",
            "Epoch 23/80\n",
            "750/750 [==============================] - 1s 2ms/step - loss: 0.1916 - val_loss: 0.2371\n",
            "Epoch 24/80\n",
            "750/750 [==============================] - 1s 2ms/step - loss: 0.1910 - val_loss: 0.2361\n",
            "Epoch 25/80\n",
            "750/750 [==============================] - 1s 2ms/step - loss: 0.1900 - val_loss: 0.2422\n",
            "Epoch 26/80\n",
            "750/750 [==============================] - 1s 2ms/step - loss: 0.1875 - val_loss: 0.2380\n",
            "Epoch 27/80\n",
            "750/750 [==============================] - 1s 2ms/step - loss: 0.1869 - val_loss: 0.2339\n",
            "Epoch 28/80\n",
            "750/750 [==============================] - 1s 2ms/step - loss: 0.1854 - val_loss: 0.2421\n",
            "Epoch 29/80\n",
            "750/750 [==============================] - 1s 2ms/step - loss: 0.1846 - val_loss: 0.2363\n",
            "Epoch 30/80\n",
            "750/750 [==============================] - 1s 2ms/step - loss: 0.1823 - val_loss: 0.2348\n",
            "Epoch 31/80\n",
            "750/750 [==============================] - 1s 2ms/step - loss: 0.1815 - val_loss: 0.2349\n",
            "Epoch 32/80\n",
            "750/750 [==============================] - 1s 2ms/step - loss: 0.1818 - val_loss: 0.2348\n",
            "Epoch 33/80\n",
            "750/750 [==============================] - 1s 2ms/step - loss: 0.1794 - val_loss: 0.2375\n",
            "Epoch 34/80\n",
            "750/750 [==============================] - 1s 2ms/step - loss: 0.1794 - val_loss: 0.2390\n",
            "Epoch 35/80\n",
            "750/750 [==============================] - 1s 2ms/step - loss: 0.1778 - val_loss: 0.2486\n",
            "Epoch 36/80\n",
            "750/750 [==============================] - 1s 2ms/step - loss: 0.1759 - val_loss: 0.2373\n",
            "Epoch 37/80\n",
            "750/750 [==============================] - 1s 2ms/step - loss: 0.1757 - val_loss: 0.2417\n",
            "Epoch 38/80\n",
            "750/750 [==============================] - 1s 2ms/step - loss: 0.1744 - val_loss: 0.2409\n",
            "Epoch 39/80\n",
            "750/750 [==============================] - 1s 2ms/step - loss: 0.1740 - val_loss: 0.2387\n",
            "Epoch 40/80\n",
            "750/750 [==============================] - 1s 2ms/step - loss: 0.1735 - val_loss: 0.2447\n",
            "Epoch 41/80\n",
            "750/750 [==============================] - 1s 2ms/step - loss: 0.1725 - val_loss: 0.2439\n",
            "Epoch 42/80\n",
            "750/750 [==============================] - 1s 2ms/step - loss: 0.1718 - val_loss: 0.2422\n",
            "Epoch 43/80\n",
            "750/750 [==============================] - 1s 2ms/step - loss: 0.1714 - val_loss: 0.2507\n",
            "Epoch 44/80\n",
            "750/750 [==============================] - 1s 2ms/step - loss: 0.1705 - val_loss: 0.2423\n",
            "Epoch 45/80\n",
            "750/750 [==============================] - 1s 2ms/step - loss: 0.1691 - val_loss: 0.2457\n",
            "Epoch 46/80\n",
            "750/750 [==============================] - 1s 2ms/step - loss: 0.1684 - val_loss: 0.2485\n",
            "Epoch 47/80\n",
            "750/750 [==============================] - 1s 2ms/step - loss: 0.1681 - val_loss: 0.2485\n",
            "Epoch 48/80\n",
            "750/750 [==============================] - 1s 2ms/step - loss: 0.1666 - val_loss: 0.2505\n",
            "Epoch 49/80\n",
            "750/750 [==============================] - 1s 2ms/step - loss: 0.1675 - val_loss: 0.2476\n",
            "Epoch 50/80\n",
            "750/750 [==============================] - 1s 2ms/step - loss: 0.1653 - val_loss: 0.2479\n",
            "Epoch 51/80\n",
            "750/750 [==============================] - 1s 2ms/step - loss: 0.1647 - val_loss: 0.2601\n",
            "Epoch 52/80\n",
            "750/750 [==============================] - 1s 2ms/step - loss: 0.1654 - val_loss: 0.2460\n",
            "Epoch 53/80\n",
            "750/750 [==============================] - 1s 2ms/step - loss: 0.1638 - val_loss: 0.2490\n",
            "Epoch 54/80\n",
            "750/750 [==============================] - 1s 2ms/step - loss: 0.1629 - val_loss: 0.2487\n",
            "Epoch 55/80\n",
            "750/750 [==============================] - 1s 2ms/step - loss: 0.1626 - val_loss: 0.2625\n",
            "Epoch 56/80\n",
            "750/750 [==============================] - 1s 2ms/step - loss: 0.1629 - val_loss: 0.2434\n",
            "Epoch 57/80\n",
            "750/750 [==============================] - 1s 2ms/step - loss: 0.1604 - val_loss: 0.2549\n",
            "Epoch 58/80\n",
            "750/750 [==============================] - 1s 2ms/step - loss: 0.1622 - val_loss: 0.2553\n",
            "Epoch 59/80\n",
            "750/750 [==============================] - 1s 2ms/step - loss: 0.1614 - val_loss: 0.2514\n",
            "Epoch 60/80\n",
            "750/750 [==============================] - 1s 2ms/step - loss: 0.1592 - val_loss: 0.2525\n",
            "Epoch 61/80\n",
            "750/750 [==============================] - 1s 2ms/step - loss: 0.1584 - val_loss: 0.2490\n",
            "Epoch 62/80\n",
            "750/750 [==============================] - 1s 2ms/step - loss: 0.1596 - val_loss: 0.2512\n",
            "Epoch 63/80\n",
            "750/750 [==============================] - 1s 2ms/step - loss: 0.1578 - val_loss: 0.2554\n",
            "Epoch 64/80\n",
            "750/750 [==============================] - 1s 2ms/step - loss: 0.1578 - val_loss: 0.2523\n",
            "Epoch 65/80\n",
            "750/750 [==============================] - 1s 2ms/step - loss: 0.1570 - val_loss: 0.2615\n",
            "Epoch 66/80\n",
            "750/750 [==============================] - 1s 2ms/step - loss: 0.1572 - val_loss: 0.2593\n",
            "Epoch 67/80\n",
            "750/750 [==============================] - 1s 2ms/step - loss: 0.1574 - val_loss: 0.2547\n",
            "Epoch 68/80\n",
            "750/750 [==============================] - 1s 2ms/step - loss: 0.1567 - val_loss: 0.2565\n",
            "Epoch 69/80\n",
            "750/750 [==============================] - 1s 2ms/step - loss: 0.1546 - val_loss: 0.2562\n",
            "Epoch 70/80\n",
            "750/750 [==============================] - 1s 2ms/step - loss: 0.1550 - val_loss: 0.2550\n",
            "Epoch 71/80\n",
            "750/750 [==============================] - 1s 2ms/step - loss: 0.1546 - val_loss: 0.2530\n",
            "Epoch 72/80\n",
            "750/750 [==============================] - 1s 2ms/step - loss: 0.1556 - val_loss: 0.2552\n",
            "Epoch 73/80\n",
            "750/750 [==============================] - 1s 2ms/step - loss: 0.1543 - val_loss: 0.2609\n",
            "Epoch 74/80\n",
            "750/750 [==============================] - 1s 2ms/step - loss: 0.1526 - val_loss: 0.2614\n",
            "Epoch 75/80\n",
            "750/750 [==============================] - 1s 2ms/step - loss: 0.1530 - val_loss: 0.2653\n",
            "Epoch 76/80\n",
            "750/750 [==============================] - 1s 2ms/step - loss: 0.1526 - val_loss: 0.2594\n",
            "Epoch 77/80\n",
            "750/750 [==============================] - 1s 2ms/step - loss: 0.1516 - val_loss: 0.2581\n",
            "Epoch 78/80\n",
            "750/750 [==============================] - 1s 2ms/step - loss: 0.1521 - val_loss: 0.2627\n",
            "Epoch 79/80\n",
            "750/750 [==============================] - 1s 2ms/step - loss: 0.1507 - val_loss: 0.2622\n",
            "Epoch 80/80\n",
            "750/750 [==============================] - 1s 2ms/step - loss: 0.1510 - val_loss: 0.2575\n",
            "Baseline model accuracy:  0.9316\n"
          ],
          "name": "stdout"
        }
      ]
    },
    {
      "cell_type": "markdown",
      "metadata": {
        "id": "aaj_nJGIkYDW",
        "colab_type": "text"
      },
      "source": [
        "### Method two : Change the model architecture by adding two more dense layers\n",
        "\n",
        "\n"
      ]
    },
    {
      "cell_type": "code",
      "metadata": {
        "id": "YqOFdwonhqmW",
        "colab_type": "code",
        "colab": {}
      },
      "source": [
        "def method_two(input_shape):\n",
        "  input_data = Input(shape=input_shape)\n",
        "\n",
        "  d1 = Dense(8, activation='tanh')(input_data)\n",
        "  # dr1 = Dropout(0.2)(d1)\n",
        "  d2 = Dense(16, activation='tanh')(d1)\n",
        "  # dr2 = Dropout(0.5)(d2)\n",
        "  d3 = Dense(16,activation='tanh')(d2)\n",
        "  # dr3 = Dropout(0.5)(d3)\n",
        "  d4 = Dense(16,activation='tanh')(d3)\n",
        "  d5 = Dense(10, activation='softmax')(d4)\n",
        "\n",
        "  model = Model(inputs=[input_data], outputs=[d5])\n",
        "\n",
        "  return model"
      ],
      "execution_count": 0,
      "outputs": []
    },
    {
      "cell_type": "code",
      "metadata": {
        "id": "0JqbmGY8hq3L",
        "colab_type": "code",
        "outputId": "9892ec26-ee5a-4c52-d900-604eff6eac43",
        "colab": {
          "base_uri": "https://localhost:8080/",
          "height": 1000
        }
      },
      "source": [
        "model = method_two(xtr_norm.shape[1:])\n",
        "model.summary()\n",
        "model.compile(optimizer='adam', loss='categorical_crossentropy',)\n",
        "hist=model.fit(\n",
        "    x=xtr_norm, y=ytr_cat, batch_size=128, epochs=80, verbose=1,\n",
        "    validation_split=0.2)\n",
        "\n",
        "\n",
        "yte_pred_cat = model.predict(xte_norm)\n",
        "yte_pred = np.argmax(yte_pred_cat,axis=1)\n",
        "accuracy = skacc(yte, yte_pred)\n",
        "print(\"Baseline model accuracy: \", accuracy)\n",
        "\n"
      ],
      "execution_count": 66,
      "outputs": [
        {
          "output_type": "stream",
          "text": [
            "Model: \"model_14\"\n",
            "_________________________________________________________________\n",
            "Layer (type)                 Output Shape              Param #   \n",
            "=================================================================\n",
            "input_15 (InputLayer)        [(None, 784)]             0         \n",
            "_________________________________________________________________\n",
            "dense_56 (Dense)             (None, 8)                 6280      \n",
            "_________________________________________________________________\n",
            "dense_57 (Dense)             (None, 16)                144       \n",
            "_________________________________________________________________\n",
            "dense_58 (Dense)             (None, 16)                272       \n",
            "_________________________________________________________________\n",
            "dense_59 (Dense)             (None, 16)                272       \n",
            "_________________________________________________________________\n",
            "dense_60 (Dense)             (None, 10)                170       \n",
            "=================================================================\n",
            "Total params: 7,138\n",
            "Trainable params: 7,138\n",
            "Non-trainable params: 0\n",
            "_________________________________________________________________\n",
            "Epoch 1/80\n",
            "375/375 [==============================] - 1s 3ms/step - loss: 0.9709 - val_loss: 0.5016\n",
            "Epoch 2/80\n",
            "375/375 [==============================] - 1s 3ms/step - loss: 0.4419 - val_loss: 0.3783\n",
            "Epoch 3/80\n",
            "375/375 [==============================] - 1s 3ms/step - loss: 0.3577 - val_loss: 0.3159\n",
            "Epoch 4/80\n",
            "375/375 [==============================] - 1s 3ms/step - loss: 0.3128 - val_loss: 0.2941\n",
            "Epoch 5/80\n",
            "375/375 [==============================] - 1s 3ms/step - loss: 0.2845 - val_loss: 0.2756\n",
            "Epoch 6/80\n",
            "375/375 [==============================] - 1s 3ms/step - loss: 0.2634 - val_loss: 0.2531\n",
            "Epoch 7/80\n",
            "375/375 [==============================] - 1s 3ms/step - loss: 0.2481 - val_loss: 0.2435\n",
            "Epoch 8/80\n",
            "375/375 [==============================] - 1s 3ms/step - loss: 0.2356 - val_loss: 0.2412\n",
            "Epoch 9/80\n",
            "375/375 [==============================] - 1s 3ms/step - loss: 0.2273 - val_loss: 0.2336\n",
            "Epoch 10/80\n",
            "375/375 [==============================] - 1s 3ms/step - loss: 0.2196 - val_loss: 0.2338\n",
            "Epoch 11/80\n",
            "375/375 [==============================] - 1s 3ms/step - loss: 0.2132 - val_loss: 0.2249\n",
            "Epoch 12/80\n",
            "375/375 [==============================] - 1s 3ms/step - loss: 0.2071 - val_loss: 0.2318\n",
            "Epoch 13/80\n",
            "375/375 [==============================] - 1s 3ms/step - loss: 0.2025 - val_loss: 0.2323\n",
            "Epoch 14/80\n",
            "375/375 [==============================] - 1s 3ms/step - loss: 0.1985 - val_loss: 0.2287\n",
            "Epoch 15/80\n",
            "375/375 [==============================] - 1s 3ms/step - loss: 0.1950 - val_loss: 0.2211\n",
            "Epoch 16/80\n",
            "375/375 [==============================] - 1s 3ms/step - loss: 0.1923 - val_loss: 0.2189\n",
            "Epoch 17/80\n",
            "375/375 [==============================] - 1s 3ms/step - loss: 0.1886 - val_loss: 0.2234\n",
            "Epoch 18/80\n",
            "375/375 [==============================] - 1s 3ms/step - loss: 0.1847 - val_loss: 0.2174\n",
            "Epoch 19/80\n",
            "375/375 [==============================] - 1s 3ms/step - loss: 0.1831 - val_loss: 0.2217\n",
            "Epoch 20/80\n",
            "375/375 [==============================] - 1s 3ms/step - loss: 0.1792 - val_loss: 0.2158\n",
            "Epoch 21/80\n",
            "375/375 [==============================] - 1s 3ms/step - loss: 0.1772 - val_loss: 0.2161\n",
            "Epoch 22/80\n",
            "375/375 [==============================] - 1s 3ms/step - loss: 0.1733 - val_loss: 0.2203\n",
            "Epoch 23/80\n",
            "375/375 [==============================] - 1s 3ms/step - loss: 0.1724 - val_loss: 0.2185\n",
            "Epoch 24/80\n",
            "375/375 [==============================] - 1s 3ms/step - loss: 0.1711 - val_loss: 0.2160\n",
            "Epoch 25/80\n",
            "375/375 [==============================] - 1s 3ms/step - loss: 0.1697 - val_loss: 0.2189\n",
            "Epoch 26/80\n",
            "375/375 [==============================] - 1s 3ms/step - loss: 0.1658 - val_loss: 0.2235\n",
            "Epoch 27/80\n",
            "375/375 [==============================] - 1s 3ms/step - loss: 0.1663 - val_loss: 0.2164\n",
            "Epoch 28/80\n",
            "375/375 [==============================] - 1s 3ms/step - loss: 0.1643 - val_loss: 0.2175\n",
            "Epoch 29/80\n",
            "375/375 [==============================] - 1s 2ms/step - loss: 0.1628 - val_loss: 0.2134\n",
            "Epoch 30/80\n",
            "375/375 [==============================] - 1s 3ms/step - loss: 0.1607 - val_loss: 0.2158\n",
            "Epoch 31/80\n",
            "375/375 [==============================] - 1s 3ms/step - loss: 0.1593 - val_loss: 0.2142\n",
            "Epoch 32/80\n",
            "375/375 [==============================] - 1s 3ms/step - loss: 0.1588 - val_loss: 0.2142\n",
            "Epoch 33/80\n",
            "375/375 [==============================] - 1s 3ms/step - loss: 0.1572 - val_loss: 0.2223\n",
            "Epoch 34/80\n",
            "375/375 [==============================] - 1s 3ms/step - loss: 0.1563 - val_loss: 0.2109\n",
            "Epoch 35/80\n",
            "375/375 [==============================] - 1s 3ms/step - loss: 0.1566 - val_loss: 0.2228\n",
            "Epoch 36/80\n",
            "375/375 [==============================] - 1s 3ms/step - loss: 0.1542 - val_loss: 0.2173\n",
            "Epoch 37/80\n",
            "375/375 [==============================] - 1s 3ms/step - loss: 0.1516 - val_loss: 0.2163\n",
            "Epoch 38/80\n",
            "375/375 [==============================] - 1s 3ms/step - loss: 0.1512 - val_loss: 0.2283\n",
            "Epoch 39/80\n",
            "375/375 [==============================] - 1s 3ms/step - loss: 0.1502 - val_loss: 0.2135\n",
            "Epoch 40/80\n",
            "375/375 [==============================] - 1s 3ms/step - loss: 0.1510 - val_loss: 0.2122\n",
            "Epoch 41/80\n",
            "375/375 [==============================] - 1s 3ms/step - loss: 0.1476 - val_loss: 0.2126\n",
            "Epoch 42/80\n",
            "375/375 [==============================] - 1s 3ms/step - loss: 0.1469 - val_loss: 0.2135\n",
            "Epoch 43/80\n",
            "375/375 [==============================] - 1s 3ms/step - loss: 0.1469 - val_loss: 0.2182\n",
            "Epoch 44/80\n",
            "375/375 [==============================] - 1s 3ms/step - loss: 0.1463 - val_loss: 0.2246\n",
            "Epoch 45/80\n",
            "375/375 [==============================] - 1s 3ms/step - loss: 0.1444 - val_loss: 0.2180\n",
            "Epoch 46/80\n",
            "375/375 [==============================] - 1s 3ms/step - loss: 0.1435 - val_loss: 0.2172\n",
            "Epoch 47/80\n",
            "375/375 [==============================] - 1s 3ms/step - loss: 0.1429 - val_loss: 0.2136\n",
            "Epoch 48/80\n",
            "375/375 [==============================] - 1s 3ms/step - loss: 0.1418 - val_loss: 0.2199\n",
            "Epoch 49/80\n",
            "375/375 [==============================] - 1s 3ms/step - loss: 0.1400 - val_loss: 0.2158\n",
            "Epoch 50/80\n",
            "375/375 [==============================] - 1s 3ms/step - loss: 0.1400 - val_loss: 0.2138\n",
            "Epoch 51/80\n",
            "375/375 [==============================] - 1s 3ms/step - loss: 0.1389 - val_loss: 0.2239\n",
            "Epoch 52/80\n",
            "375/375 [==============================] - 1s 3ms/step - loss: 0.1392 - val_loss: 0.2196\n",
            "Epoch 53/80\n",
            "375/375 [==============================] - 1s 3ms/step - loss: 0.1376 - val_loss: 0.2183\n",
            "Epoch 54/80\n",
            "375/375 [==============================] - 1s 3ms/step - loss: 0.1375 - val_loss: 0.2264\n",
            "Epoch 55/80\n",
            "375/375 [==============================] - 1s 3ms/step - loss: 0.1366 - val_loss: 0.2135\n",
            "Epoch 56/80\n",
            "375/375 [==============================] - 1s 3ms/step - loss: 0.1365 - val_loss: 0.2240\n",
            "Epoch 57/80\n",
            "375/375 [==============================] - 1s 3ms/step - loss: 0.1348 - val_loss: 0.2253\n",
            "Epoch 58/80\n",
            "375/375 [==============================] - 1s 3ms/step - loss: 0.1341 - val_loss: 0.2337\n",
            "Epoch 59/80\n",
            "375/375 [==============================] - 1s 3ms/step - loss: 0.1357 - val_loss: 0.2187\n",
            "Epoch 60/80\n",
            "375/375 [==============================] - 1s 3ms/step - loss: 0.1327 - val_loss: 0.2232\n",
            "Epoch 61/80\n",
            "375/375 [==============================] - 1s 3ms/step - loss: 0.1314 - val_loss: 0.2199\n",
            "Epoch 62/80\n",
            "375/375 [==============================] - 1s 3ms/step - loss: 0.1321 - val_loss: 0.2260\n",
            "Epoch 63/80\n",
            "375/375 [==============================] - 1s 3ms/step - loss: 0.1304 - val_loss: 0.2269\n",
            "Epoch 64/80\n",
            "375/375 [==============================] - 1s 3ms/step - loss: 0.1298 - val_loss: 0.2219\n",
            "Epoch 65/80\n",
            "375/375 [==============================] - 1s 3ms/step - loss: 0.1306 - val_loss: 0.2274\n",
            "Epoch 66/80\n",
            "375/375 [==============================] - 1s 3ms/step - loss: 0.1302 - val_loss: 0.2236\n",
            "Epoch 67/80\n",
            "375/375 [==============================] - 1s 2ms/step - loss: 0.1286 - val_loss: 0.2249\n",
            "Epoch 68/80\n",
            "375/375 [==============================] - 1s 3ms/step - loss: 0.1307 - val_loss: 0.2294\n",
            "Epoch 69/80\n",
            "375/375 [==============================] - 1s 3ms/step - loss: 0.1284 - val_loss: 0.2217\n",
            "Epoch 70/80\n",
            "375/375 [==============================] - 1s 3ms/step - loss: 0.1287 - val_loss: 0.2245\n",
            "Epoch 71/80\n",
            "375/375 [==============================] - 1s 3ms/step - loss: 0.1260 - val_loss: 0.2233\n",
            "Epoch 72/80\n",
            "375/375 [==============================] - 1s 3ms/step - loss: 0.1257 - val_loss: 0.2260\n",
            "Epoch 73/80\n",
            "375/375 [==============================] - 1s 3ms/step - loss: 0.1262 - val_loss: 0.2307\n",
            "Epoch 74/80\n",
            "375/375 [==============================] - 1s 3ms/step - loss: 0.1266 - val_loss: 0.2283\n",
            "Epoch 75/80\n",
            "375/375 [==============================] - 1s 3ms/step - loss: 0.1246 - val_loss: 0.2287\n",
            "Epoch 76/80\n",
            "375/375 [==============================] - 1s 3ms/step - loss: 0.1249 - val_loss: 0.2343\n",
            "Epoch 77/80\n",
            "375/375 [==============================] - 1s 3ms/step - loss: 0.1236 - val_loss: 0.2300\n",
            "Epoch 78/80\n",
            "375/375 [==============================] - 1s 3ms/step - loss: 0.1243 - val_loss: 0.2357\n",
            "Epoch 79/80\n",
            "375/375 [==============================] - 1s 3ms/step - loss: 0.1240 - val_loss: 0.2279\n",
            "Epoch 80/80\n",
            "375/375 [==============================] - 1s 3ms/step - loss: 0.1229 - val_loss: 0.2286\n",
            "Baseline model accuracy:  0.937\n"
          ],
          "name": "stdout"
        }
      ]
    },
    {
      "cell_type": "markdown",
      "metadata": {
        "id": "03ihztprwkqg",
        "colab_type": "text"
      },
      "source": [
        "### Method three : Change the model architecture by adding the regularizer and change the optimizer to 'SGD'\n"
      ]
    },
    {
      "cell_type": "code",
      "metadata": {
        "id": "vByXL_Hlhq1E",
        "colab_type": "code",
        "outputId": "faf8d325-6a3f-48c6-d427-a81c922b72a0",
        "colab": {
          "base_uri": "https://localhost:8080/",
          "height": 1000
        }
      },
      "source": [
        "def method_three(input_shape):\n",
        "  input_data = Input(shape=input_shape)\n",
        "\n",
        "  d1 = Dense(8, activation='tanh')(input_data)\n",
        "  # dr1 = Dropout(0.2)(d1)\n",
        "  d2 = Dense(16, activation='tanh',kernel_regularizer=tf.keras.regularizers.l1(0.02),\n",
        "                              activity_regularizer=tf.keras.regularizers.l2(0.02))(d1)\n",
        "  # dr2 = Dropout(0.5)(d2)\n",
        "  d3 = Dense(16,activation='tanh',kernel_regularizer=tf.keras.regularizers.l1(0.02),\n",
        "                              activity_regularizer=tf.keras.regularizers.l2(0.02))(d2)\n",
        "  # dr3 = Dropout(0.5)(d3)\n",
        "  d4 = Dense(16,activation='tanh',kernel_regularizer=tf.keras.regularizers.l1(0.02),\n",
        "                              activity_regularizer=tf.keras.regularizers.l2(0.02))(d3)\n",
        "  d5 = Dense(10, activation='softmax')(d4)\n",
        "\n",
        "  model = Model(inputs=[input_data], outputs=[d5])\n",
        "\n",
        "  return model\n",
        "\n",
        "model = method_three(xtr_norm.shape[1:])\n",
        "model.summary()\n",
        "model.compile(optimizer='sgd', loss='categorical_crossentropy',)\n",
        "history=model.fit(\n",
        "    x=xtr_norm, y=ytr_cat, batch_size=128, epochs=80, verbose=1,\n",
        "    validation_split=0.2)\n",
        "\n",
        "\n",
        "yte_pred_cat = model.predict(xte_norm)\n",
        "yte_pred = np.argmax(yte_pred_cat,axis=1)\n",
        "accuracy = skacc(yte, yte_pred)\n",
        "print(\"Baseline model accuracy: \", accuracy)\n",
        "\n",
        "\n",
        "\n",
        "\n"
      ],
      "execution_count": 67,
      "outputs": [
        {
          "output_type": "stream",
          "text": [
            "Model: \"model_15\"\n",
            "_________________________________________________________________\n",
            "Layer (type)                 Output Shape              Param #   \n",
            "=================================================================\n",
            "input_16 (InputLayer)        [(None, 784)]             0         \n",
            "_________________________________________________________________\n",
            "dense_61 (Dense)             (None, 8)                 6280      \n",
            "_________________________________________________________________\n",
            "dense_62 (Dense)             (None, 16)                144       \n",
            "_________________________________________________________________\n",
            "dense_63 (Dense)             (None, 16)                272       \n",
            "_________________________________________________________________\n",
            "dense_64 (Dense)             (None, 16)                272       \n",
            "_________________________________________________________________\n",
            "dense_65 (Dense)             (None, 10)                170       \n",
            "=================================================================\n",
            "Total params: 7,138\n",
            "Trainable params: 7,138\n",
            "Non-trainable params: 0\n",
            "_________________________________________________________________\n",
            "Epoch 1/80\n",
            "375/375 [==============================] - 1s 3ms/step - loss: 4.4669 - val_loss: 3.9383\n",
            "Epoch 2/80\n",
            "375/375 [==============================] - 1s 2ms/step - loss: 3.5808 - val_loss: 3.2539\n",
            "Epoch 3/80\n",
            "375/375 [==============================] - 1s 2ms/step - loss: 3.0204 - val_loss: 2.7910\n",
            "Epoch 4/80\n",
            "375/375 [==============================] - 1s 2ms/step - loss: 2.6341 - val_loss: 2.4780\n",
            "Epoch 5/80\n",
            "375/375 [==============================] - 1s 2ms/step - loss: 2.3715 - val_loss: 2.2556\n",
            "Epoch 6/80\n",
            "375/375 [==============================] - 1s 2ms/step - loss: 2.1757 - val_loss: 2.0833\n",
            "Epoch 7/80\n",
            "375/375 [==============================] - 1s 2ms/step - loss: 2.0260 - val_loss: 1.9554\n",
            "Epoch 8/80\n",
            "375/375 [==============================] - 1s 2ms/step - loss: 1.9143 - val_loss: 1.8577\n",
            "Epoch 9/80\n",
            "375/375 [==============================] - 1s 2ms/step - loss: 1.8270 - val_loss: 1.7792\n",
            "Epoch 10/80\n",
            "375/375 [==============================] - 1s 2ms/step - loss: 1.7546 - val_loss: 1.7120\n",
            "Epoch 11/80\n",
            "375/375 [==============================] - 1s 2ms/step - loss: 1.6937 - val_loss: 1.6561\n",
            "Epoch 12/80\n",
            "375/375 [==============================] - 1s 2ms/step - loss: 1.6418 - val_loss: 1.6071\n",
            "Epoch 13/80\n",
            "375/375 [==============================] - 1s 2ms/step - loss: 1.5978 - val_loss: 1.5659\n",
            "Epoch 14/80\n",
            "375/375 [==============================] - 1s 2ms/step - loss: 1.5572 - val_loss: 1.5258\n",
            "Epoch 15/80\n",
            "375/375 [==============================] - 1s 2ms/step - loss: 1.5184 - val_loss: 1.4873\n",
            "Epoch 16/80\n",
            "375/375 [==============================] - 1s 2ms/step - loss: 1.4820 - val_loss: 1.4524\n",
            "Epoch 17/80\n",
            "375/375 [==============================] - 1s 2ms/step - loss: 1.4480 - val_loss: 1.4189\n",
            "Epoch 18/80\n",
            "375/375 [==============================] - 1s 2ms/step - loss: 1.4144 - val_loss: 1.3868\n",
            "Epoch 19/80\n",
            "375/375 [==============================] - 1s 2ms/step - loss: 1.3854 - val_loss: 1.3593\n",
            "Epoch 20/80\n",
            "375/375 [==============================] - 1s 2ms/step - loss: 1.3580 - val_loss: 1.3320\n",
            "Epoch 21/80\n",
            "375/375 [==============================] - 1s 2ms/step - loss: 1.3328 - val_loss: 1.3084\n",
            "Epoch 22/80\n",
            "375/375 [==============================] - 1s 2ms/step - loss: 1.3095 - val_loss: 1.2862\n",
            "Epoch 23/80\n",
            "375/375 [==============================] - 1s 2ms/step - loss: 1.2887 - val_loss: 1.2684\n",
            "Epoch 24/80\n",
            "375/375 [==============================] - 1s 2ms/step - loss: 1.2708 - val_loss: 1.2503\n",
            "Epoch 25/80\n",
            "375/375 [==============================] - 1s 2ms/step - loss: 1.2523 - val_loss: 1.2317\n",
            "Epoch 26/80\n",
            "375/375 [==============================] - 1s 2ms/step - loss: 1.2348 - val_loss: 1.2145\n",
            "Epoch 27/80\n",
            "375/375 [==============================] - 1s 2ms/step - loss: 1.2194 - val_loss: 1.2006\n",
            "Epoch 28/80\n",
            "375/375 [==============================] - 1s 2ms/step - loss: 1.2045 - val_loss: 1.1864\n",
            "Epoch 29/80\n",
            "375/375 [==============================] - 1s 2ms/step - loss: 1.1891 - val_loss: 1.1702\n",
            "Epoch 30/80\n",
            "375/375 [==============================] - 1s 2ms/step - loss: 1.1737 - val_loss: 1.1554\n",
            "Epoch 31/80\n",
            "375/375 [==============================] - 1s 2ms/step - loss: 1.1579 - val_loss: 1.1391\n",
            "Epoch 32/80\n",
            "375/375 [==============================] - 1s 2ms/step - loss: 1.1402 - val_loss: 1.1215\n",
            "Epoch 33/80\n",
            "375/375 [==============================] - 1s 2ms/step - loss: 1.1220 - val_loss: 1.1034\n",
            "Epoch 34/80\n",
            "375/375 [==============================] - 1s 2ms/step - loss: 1.1036 - val_loss: 1.0850\n",
            "Epoch 35/80\n",
            "375/375 [==============================] - 1s 2ms/step - loss: 1.0865 - val_loss: 1.0682\n",
            "Epoch 36/80\n",
            "375/375 [==============================] - 1s 2ms/step - loss: 1.0713 - val_loss: 1.0542\n",
            "Epoch 37/80\n",
            "375/375 [==============================] - 1s 2ms/step - loss: 1.0593 - val_loss: 1.0467\n",
            "Epoch 38/80\n",
            "375/375 [==============================] - 1s 2ms/step - loss: 1.0487 - val_loss: 1.0340\n",
            "Epoch 39/80\n",
            "375/375 [==============================] - 1s 2ms/step - loss: 1.0387 - val_loss: 1.0253\n",
            "Epoch 40/80\n",
            "375/375 [==============================] - 1s 2ms/step - loss: 1.0298 - val_loss: 1.0172\n",
            "Epoch 41/80\n",
            "375/375 [==============================] - 1s 2ms/step - loss: 1.0209 - val_loss: 1.0077\n",
            "Epoch 42/80\n",
            "375/375 [==============================] - 1s 2ms/step - loss: 1.0123 - val_loss: 0.9988\n",
            "Epoch 43/80\n",
            "375/375 [==============================] - 1s 2ms/step - loss: 1.0036 - val_loss: 0.9914\n",
            "Epoch 44/80\n",
            "375/375 [==============================] - 1s 2ms/step - loss: 0.9954 - val_loss: 0.9830\n",
            "Epoch 45/80\n",
            "375/375 [==============================] - 1s 2ms/step - loss: 0.9880 - val_loss: 0.9758\n",
            "Epoch 46/80\n",
            "375/375 [==============================] - 1s 2ms/step - loss: 0.9817 - val_loss: 0.9714\n",
            "Epoch 47/80\n",
            "375/375 [==============================] - 1s 2ms/step - loss: 0.9762 - val_loss: 0.9650\n",
            "Epoch 48/80\n",
            "375/375 [==============================] - 1s 2ms/step - loss: 0.9706 - val_loss: 0.9620\n",
            "Epoch 49/80\n",
            "375/375 [==============================] - 1s 2ms/step - loss: 0.9647 - val_loss: 0.9550\n",
            "Epoch 50/80\n",
            "375/375 [==============================] - 1s 3ms/step - loss: 0.9594 - val_loss: 0.9503\n",
            "Epoch 51/80\n",
            "375/375 [==============================] - 1s 2ms/step - loss: 0.9542 - val_loss: 0.9462\n",
            "Epoch 52/80\n",
            "375/375 [==============================] - 1s 2ms/step - loss: 0.9492 - val_loss: 0.9406\n",
            "Epoch 53/80\n",
            "375/375 [==============================] - 1s 2ms/step - loss: 0.9441 - val_loss: 0.9369\n",
            "Epoch 54/80\n",
            "375/375 [==============================] - 1s 2ms/step - loss: 0.9393 - val_loss: 0.9323\n",
            "Epoch 55/80\n",
            "375/375 [==============================] - 1s 2ms/step - loss: 0.9346 - val_loss: 0.9284\n",
            "Epoch 56/80\n",
            "375/375 [==============================] - 1s 2ms/step - loss: 0.9300 - val_loss: 0.9241\n",
            "Epoch 57/80\n",
            "375/375 [==============================] - 1s 2ms/step - loss: 0.9257 - val_loss: 0.9199\n",
            "Epoch 58/80\n",
            "375/375 [==============================] - 1s 2ms/step - loss: 0.9214 - val_loss: 0.9154\n",
            "Epoch 59/80\n",
            "375/375 [==============================] - 1s 2ms/step - loss: 0.9174 - val_loss: 0.9118\n",
            "Epoch 60/80\n",
            "375/375 [==============================] - 1s 2ms/step - loss: 0.9134 - val_loss: 0.9127\n",
            "Epoch 61/80\n",
            "375/375 [==============================] - 1s 3ms/step - loss: 0.9097 - val_loss: 0.9048\n",
            "Epoch 62/80\n",
            "375/375 [==============================] - 1s 2ms/step - loss: 0.9058 - val_loss: 0.9031\n",
            "Epoch 63/80\n",
            "375/375 [==============================] - 1s 3ms/step - loss: 0.9023 - val_loss: 0.8991\n",
            "Epoch 64/80\n",
            "375/375 [==============================] - 1s 2ms/step - loss: 0.8987 - val_loss: 0.8948\n",
            "Epoch 65/80\n",
            "375/375 [==============================] - 1s 2ms/step - loss: 0.8952 - val_loss: 0.8930\n",
            "Epoch 66/80\n",
            "375/375 [==============================] - 1s 2ms/step - loss: 0.8920 - val_loss: 0.8904\n",
            "Epoch 67/80\n",
            "375/375 [==============================] - 1s 2ms/step - loss: 0.8889 - val_loss: 0.8860\n",
            "Epoch 68/80\n",
            "375/375 [==============================] - 1s 2ms/step - loss: 0.8856 - val_loss: 0.8862\n",
            "Epoch 69/80\n",
            "375/375 [==============================] - 1s 2ms/step - loss: 0.8825 - val_loss: 0.8810\n",
            "Epoch 70/80\n",
            "375/375 [==============================] - 1s 2ms/step - loss: 0.8796 - val_loss: 0.8787\n",
            "Epoch 71/80\n",
            "375/375 [==============================] - 1s 2ms/step - loss: 0.8768 - val_loss: 0.8769\n",
            "Epoch 72/80\n",
            "375/375 [==============================] - 1s 2ms/step - loss: 0.8739 - val_loss: 0.8741\n",
            "Epoch 73/80\n",
            "375/375 [==============================] - 1s 2ms/step - loss: 0.8713 - val_loss: 0.8708\n",
            "Epoch 74/80\n",
            "375/375 [==============================] - 1s 2ms/step - loss: 0.8684 - val_loss: 0.8688\n",
            "Epoch 75/80\n",
            "375/375 [==============================] - 1s 2ms/step - loss: 0.8660 - val_loss: 0.8671\n",
            "Epoch 76/80\n",
            "375/375 [==============================] - 1s 2ms/step - loss: 0.8632 - val_loss: 0.8631\n",
            "Epoch 77/80\n",
            "375/375 [==============================] - 1s 2ms/step - loss: 0.8608 - val_loss: 0.8613\n",
            "Epoch 78/80\n",
            "375/375 [==============================] - 1s 2ms/step - loss: 0.8583 - val_loss: 0.8617\n",
            "Epoch 79/80\n",
            "375/375 [==============================] - 1s 2ms/step - loss: 0.8558 - val_loss: 0.8588\n",
            "Epoch 80/80\n",
            "375/375 [==============================] - 1s 2ms/step - loss: 0.8533 - val_loss: 0.8561\n",
            "Baseline model accuracy:  0.8882\n"
          ],
          "name": "stdout"
        }
      ]
    },
    {
      "cell_type": "code",
      "metadata": {
        "id": "An5b01s7hqzb",
        "colab_type": "code",
        "colab": {}
      },
      "source": [
        ""
      ],
      "execution_count": 0,
      "outputs": []
    },
    {
      "cell_type": "code",
      "metadata": {
        "id": "Oe232YDthqx6",
        "colab_type": "code",
        "colab": {}
      },
      "source": [
        ""
      ],
      "execution_count": 0,
      "outputs": []
    },
    {
      "cell_type": "code",
      "metadata": {
        "id": "5s6LZn1ihqub",
        "colab_type": "code",
        "colab": {}
      },
      "source": [
        ""
      ],
      "execution_count": 0,
      "outputs": []
    },
    {
      "cell_type": "markdown",
      "metadata": {
        "id": "dSI_3SZQIeRl",
        "colab_type": "text"
      },
      "source": [
        "---\n",
        "### Problem IV\n",
        "\n",
        "Accuracy score is the standard metric for evaluating model performance in classification problems. \n",
        "\n",
        "*   Can you propose other measures to evaluate model performance? Compute scores for your models using the proposed metric.\n",
        "*   What are the benefits of using the proposed metric?\n",
        "\n",
        "```\n",
        "HINT: Several popular metrics can be found in the sklearn.metrics library\n",
        "```\n",
        "---"
      ]
    },
    {
      "cell_type": "markdown",
      "metadata": {
        "id": "IoTm1vrHi72j",
        "colab_type": "text"
      },
      "source": [
        "## Answer"
      ]
    },
    {
      "cell_type": "markdown",
      "metadata": {
        "id": "u8uv-6Zj5vZU",
        "colab_type": "text"
      },
      "source": [
        "Precision is the ratio of True Positive / (True Positive + False Positive)\n",
        "\n",
        "Recall is the ratio of True Positive / (True Positive + False Negative)\n",
        "\n",
        "f1_score = 2* Precision * Recall / (Precision + recall)\n",
        "\n",
        "In the example of lets say COVID-19 case detection. In this case, we would tolerate false positive(wrongly classified as patients). However, we would not tolerate false negative(as it may spread to more people).\n",
        "In this case, we need to focus or maximize our recall score even though the other scores may fall.\n",
        "\n",
        "However, a single score would not evaluate the performance entirely.\n",
        "In the case of unbalanced dataset where a single or a few labels have occupy large percentage of the dataset.\n",
        "\n",
        "For instance, a binary class classification problem. 99% of the data is from postive class and only 1% is from the negative class.\n",
        "In this case, if the model simply (dumbly) classify all data as positive class, the recall score itself can show 100% which seems to be perfect. However, it is not the case.\n",
        "In this example, other metrics should come in such as f1-score.\n",
        "\n",
        "Using the F1 score we can get a more realistic measure of our classifier's performance. Moreover we can avoid to be fooled by the arithmetic mean between a very poor PRECISION and very high RECALL, which can be obtained simply by classifying all of the documents as positive using a dummy classifier.\n",
        "\n",
        "\n"
      ]
    },
    {
      "cell_type": "markdown",
      "metadata": {
        "id": "VW_jH75hwzNh",
        "colab_type": "text"
      },
      "source": [
        "Other methods like precision score, recall score, f1-score, macro-average and micro-average"
      ]
    },
    {
      "cell_type": "code",
      "metadata": {
        "id": "oADi3zgBJ0aB",
        "colab_type": "code",
        "outputId": "e4545c48-e32d-4dd7-b58f-e36d45e22640",
        "colab": {
          "base_uri": "https://localhost:8080/",
          "height": 71
        }
      },
      "source": [
        "### Problem IV codes here. Add more cells as needed\n",
        "from sklearn.metrics import precision_score,recall_score,f1_score\n",
        "accuracy = precision_score(yte, yte_pred,average='macro')\n",
        "print(\"Precision accuracy: \", accuracy)\n",
        "\n",
        "accuracy = recall_score(yte, yte_pred,average='micro')\n",
        "print(\"Recall accuracy: \", accuracy)\n",
        "\n",
        "accuracy = f1_score(yte, yte_pred,average='weighted')\n",
        "print(\"f1_score accuracy: \", accuracy)\n",
        "\n",
        "\n",
        "\n",
        "\n"
      ],
      "execution_count": 50,
      "outputs": [
        {
          "output_type": "stream",
          "text": [
            "Precision accuracy:  0.9245930027478039\n",
            "Recall accuracy:  0.9255\n",
            "f1_score accuracy:  0.9253510044019032\n"
          ],
          "name": "stdout"
        }
      ]
    },
    {
      "cell_type": "markdown",
      "metadata": {
        "id": "M1JcJXl1JKsz",
        "colab_type": "text"
      },
      "source": [
        "---\n",
        "### Bonus\n",
        "\n",
        "Data visualization at various stage help develop intuition of model performance, identify cause for errors, and impelement ideas for improvement.\n",
        "\n",
        "*   Can you write scripts to visualize different aspects of the model?\n",
        "\n",
        "```\n",
        "HINT: You can visualize model loss over epochs using the keras model history returned by model.fit(). \n",
        "      Confusion matrix is a good way of identifying the most challenging classes.\n",
        "```\n",
        "---"
      ]
    },
    {
      "cell_type": "code",
      "metadata": {
        "id": "oKdkt1WAJ7kQ",
        "colab_type": "code",
        "colab": {
          "base_uri": "https://localhost:8080/",
          "height": 313
        },
        "outputId": "0026263d-1b89-4cfe-e080-29c855b49800"
      },
      "source": [
        "### Bonus codes here. Add more cells as needed\n",
        "plt.plot(hist.history['loss'],label='training loss')\n",
        "plt.plot(hist.history['val_loss'],label='validation loss')\n",
        "plt.title('Loss')\n",
        "plt.xlabel('Epochs')\n",
        "plt.ylabel('Loss')\n",
        "plt.legend()\n",
        "\n",
        "\n",
        "\n"
      ],
      "execution_count": 68,
      "outputs": [
        {
          "output_type": "execute_result",
          "data": {
            "text/plain": [
              "<matplotlib.legend.Legend at 0x7f1077fd7fd0>"
            ]
          },
          "metadata": {
            "tags": []
          },
          "execution_count": 68
        },
        {
          "output_type": "display_data",
          "data": {
            "image/png": "[encoded data removed]",
            "text/plain": [
              "<Figure size 432x288 with 1 Axes>"
            ]
          },
          "metadata": {
            "tags": [],
            "needs_background": "light"
          }
        }
      ]
    },
    {
      "cell_type": "code",
      "metadata": {
        "id": "WgP5zUxyZRPk",
        "colab_type": "code",
        "colab": {
          "base_uri": "https://localhost:8080/",
          "height": 35
        },
        "outputId": "1b74c7d2-21fb-44fa-95b3-126ea0bf236a"
      },
      "source": [
        "labels = [x for x in range(0,10)]\n",
        "labels"
      ],
      "execution_count": 69,
      "outputs": [
        {
          "output_type": "execute_result",
          "data": {
            "text/plain": [
              "[0, 1, 2, 3, 4, 5, 6, 7, 8, 9]"
            ]
          },
          "metadata": {
            "tags": []
          },
          "execution_count": 69
        }
      ]
    },
    {
      "cell_type": "code",
      "metadata": {
        "id": "cyYntmo5A-i3",
        "colab_type": "code",
        "colab": {
          "base_uri": "https://localhost:8080/",
          "height": 477
        },
        "outputId": "9bf36035-1437-44e2-f2f1-8d408fb042e1"
      },
      "source": [
        "from sklearn.metrics import confusion_matrix\n",
        "cm=confusion_matrix(yte,yte_pred)\n",
        "fig = plt.figure()\n",
        "ax = fig.add_subplot(111)\n",
        "print(cm)\n",
        "colorbar =ax.matshow(cm)\n",
        "fig.colorbar(colorbar)\n",
        "plt.xticks(labels,labels)\n",
        "plt.yticks(labels,labels)\n",
        "plt.xlabel(\"Predicted\")\n",
        "plt.ylabel(\"True\")"
      ],
      "execution_count": 72,
      "outputs": [
        {
          "output_type": "stream",
          "text": [
            "[[ 944    0    6    1   11    8    2    5    3    0]\n",
            " [   0 1085    4    2    0    1    2    1   35    5]\n",
            " [  19    0  902   14    6   37   20    2   29    3]\n",
            " [   0    7   29  880    0   66    1   12   12    3]\n",
            " [   1    2    4    0  898    0   21    1    4   51]\n",
            " [  17    0   33   60    8  663   10   25   68    8]\n",
            " [  27    1   28    0   26    3  858    0   15    0]\n",
            " [   5    6   10   17    3   21    0  930    1   35]\n",
            " [   3   19    8   11    1   64   20    5  828   15]\n",
            " [   5   12    0    3   35   20    0   31    9  894]]\n"
          ],
          "name": "stdout"
        },
        {
          "output_type": "execute_result",
          "data": {
            "text/plain": [
              "Text(0, 0.5, 'True')"
            ]
          },
          "metadata": {
            "tags": []
          },
          "execution_count": 72
        },
        {
          "output_type": "display_data",
          "data": {
            "image/png": "[encoded data removed]",
            "text/plain": [
              "<Figure size 432x288 with 2 Axes>"
            ]
          },
          "metadata": {
            "tags": [],
            "needs_background": "light"
          }
        }
      ]
    },
    {
      "cell_type": "markdown",
      "metadata": {
        "id": "x9Rd6UEDokx1",
        "colab_type": "text"
      },
      "source": [
        "### Have a Feedback?\n",
        "\n",
        "If you have suggestions to improve this notebook, please share your ideas via email to the GA. We are always listening!\n",
        "\n",
        "Thank you."
      ]
    },
    {
      "cell_type": "markdown",
      "metadata": {
        "id": "uQMVEd0qkz7s",
        "colab_type": "text"
      },
      "source": [
        "---\n",
        "\n",
        "End of the Notebook\n",
        "\n",
        "---"
      ]
    }
  ]
}